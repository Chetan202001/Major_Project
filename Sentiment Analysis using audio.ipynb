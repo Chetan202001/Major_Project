{
  "nbformat": 4,
  "nbformat_minor": 0,
  "metadata": {
    "colab": {
      "provenance": [],
      "authorship_tag": "ABX9TyPkdiISRaSAbakhntIAXiZm",
      "include_colab_link": true
    },
    "kernelspec": {
      "name": "python3",
      "display_name": "Python 3"
    },
    "language_info": {
      "name": "python"
    }
  },
  "cells": [
    {
      "cell_type": "markdown",
      "metadata": {
        "id": "view-in-github",
        "colab_type": "text"
      },
      "source": [
        "<a href=\"https://colab.research.google.com/github/Chetan202001/Major_Project/blob/main/Sentiment%20Analysis%20using%20audio.ipynb\" target=\"_parent\"><img src=\"https://colab.research.google.com/assets/colab-badge.svg\" alt=\"Open In Colab\"/></a>"
      ]
    },
    {
      "cell_type": "markdown",
      "source": [],
      "metadata": {
        "id": "JgaVGR1F2u4o"
      }
    },
    //added some chnages
    {
      "cell_type": "code",
      "source": [
        "pip install SpeechRecognition==2.1.3\n"
      ],
      "metadata": {
        "colab": {
          "base_uri": "https://localhost:8080/"
        },
        "id": "udjHYEQ-2w_8",
        "outputId": "f1386243-0055-41f5-85ff-5a88d1f59815"
      },
      "execution_count": 1,
      "outputs": [
        {
          "output_type": "stream",
          "name": "stdout",
          "text": [
            "Looking in indexes: https://pypi.org/simple, https://us-python.pkg.dev/colab-wheels/public/simple/\n",
            "Requirement already satisfied: SpeechRecognition==2.1.3 in /usr/local/lib/python3.10/dist-packages (2.1.3)\n",
            "^C\n"
          ]
        }
      ]
    },
    {
      "cell_type": "code",
      "source": [
        "pip install toml"
      ],
      "metadata": {
        "colab": {
          "base_uri": "https://localhost:8080/"
        },
        "id": "SKm0gwZW3cnP",
        "outputId": "2e69ec9a-0b02-4fbf-c149-e5b1d49ad416"
      },
      "execution_count": null,
      "outputs": [
        {
          "output_type": "stream",
          "name": "stdout",
          "text": [
            "Looking in indexes: https://pypi.org/simple, https://us-python.pkg.dev/colab-wheels/public/simple/\n",
            "Requirement already satisfied: toml in /usr/local/lib/python3.10/dist-packages (0.10.2)\n"
          ]
        }
      ]
    },
    {
      "cell_type": "code",
      "source": [
        "pip install PyAudio"
      ],
      "metadata": {
        "id": "fnJmmiON3MvH"
      },
      "execution_count": null,
      "outputs": []
    },
    {
      "cell_type": "code",
      "execution_count": null,
      "metadata": {
        "id": "0Y-d9P7n1Gf9"
      },
      "outputs": [],
      "source": [
        "import speech_recognition as sr\n",
        "\n",
        "from textblob import TextBlob\n",
        "\n",
        "\n",
        "def get_sentiment(sentx):\n",
        "    # create TextBlob object of passed text\n",
        "    analysis = TextBlob(sentx)\n",
        "    # set sentiment\n",
        "    if analysis.sentiment.polarity > 0:\n",
        "        return ('positive')\n",
        "    elif analysis.sentiment.polarity == 0:\n",
        "        return ('neutral')\n",
        "    else:\n",
        "        return ('negative')\n",
        "\n",
        "\n",
        "def recognize_speech_from_mic(recognizer, microphone):\n",
        "    # check that recognizer and microphone arguments are appropriate type\n",
        "    if not isinstance(recognizer, sr.Recognizer):\n",
        "        raise TypeError(\"`recognizer` must be `Recognizer` instance\")\n",
        "\n",
        "    if not isinstance(microphone, sr.Microphone):\n",
        "        raise TypeError(\"`microphone` must be `Microphone` instance\")\n",
        "\n",
        "    # adjust the recognizer sensitivity to ambient noise and record audio from the microphone\n",
        "    with microphone as source:\n",
        "        recognizer.adjust_for_ambient_noise(source) # #  analyze the audio source for 1 second\n",
        "        audio = recognizer.listen(source)\n",
        "\n",
        "    # set up the response object\n",
        "    response = {\n",
        "        \"success\": True,\n",
        "        \"error\": None,\n",
        "        \"transcription\": None\n",
        "    }\n",
        "\n",
        "    try:\n",
        "        response[\"transcription\"] = recognizer.recognize_google(audio)\n",
        "    except sr.RequestError:\n",
        "        # API was unreachable or unresponsive\n",
        "        response[\"success\"] = False\n",
        "        response[\"error\"] = \"API unavailable/unresponsive\"\n",
        "    except sr.UnknownValueError:\n",
        "        # speech was unintelligible\n",
        "        response[\"error\"] = \"Unable to recognize speech\"\n",
        "\n",
        "    return response\n",
        "\n",
        "recognizer = sr.Recognizer()\n",
        "\n",
        "mic = sr.Microphone(device_index=1)\n",
        "\n",
        "response = recognize_speech_from_mic(recognizer, mic)\n",
        "\n",
        "print('\\nSuccess : {}\\nError   : {}\\n\\nText from Speech\\n{}\\n\\n{}' \\\n",
        "          .format(response['success'],\n",
        "                  response['error'],\n",
        "                  '-'*17,\n",
        "                  response['transcription']))\n",
        "\n",
        "temp_str = ''\n",
        "records_all = []\n",
        "\n",
        "while (temp_str != 'bye'):\n",
        "    print('Speak it out')\n",
        "    response = recognize_speech_from_mic(recognizer, mic)\n",
        "    if response['success']:\n",
        "        temp_str = response['transcription']\n",
        "        print('You said :' ,temp_str )\n",
        "        if (temp_str != 'bye'):\n",
        "            records_all.append(temp_str)\n",
        "print('Thanks for your Inputs')\n",
        "\n",
        "for rec in records_all:\n",
        "    if rec is None:\n",
        "        records_all.remove(rec)\n",
        "print(records_all)\n",
        "\n",
        "# Select from collection\n",
        "sentimets_total = {'neutral': 0 , 'positive' : 0 , 'negative':0}\n",
        "for recd_sent in records_all:\n",
        "    sentiment = get_sentiment(recd_sent)\n",
        "    print (sentiment,'===>',recd_sent)\n",
        "    sentimets_total[sentiment] = sentimets_total[sentiment] + 1\n",
        "    print('###########################################')\n",
        "print(sentimets_total)\n",
        "\n",
        "\n",
        "from matplotlib import pyplot as plt\n",
        "slices = [sentimets_total['neutral'],sentimets_total['positive'],sentimets_total['negative']]\n",
        "activities = ['Neutral','Positive','Negative']\n",
        "cols = ['c','lime','r',]\n",
        "\n",
        "plt.pie(slices,\n",
        "        labels=activities,\n",
        "        colors=cols,\n",
        "        shadow= True,\n",
        "        autopct='%1.1f%%')\n",
        "\n",
        "plt.title('Sentiment Analysis of Audio Speech')\n",
        "plt.legend()\n",
        "plt.show()"
      ]
    }
  ]
}
